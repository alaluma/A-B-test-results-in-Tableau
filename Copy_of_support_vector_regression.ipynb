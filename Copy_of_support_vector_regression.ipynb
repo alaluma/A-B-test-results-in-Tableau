{
  "nbformat": 4,
  "nbformat_minor": 0,
  "metadata": {
    "colab": {
      "name": "Copy of support_vector_regression.ipynb",
      "provenance": [],
      "collapsed_sections": [],
      "include_colab_link": true
    },
    "kernelspec": {
      "name": "python3",
      "display_name": "Python 3"
    }
  },
  "cells": [
    {
      "cell_type": "markdown",
      "metadata": {
        "id": "view-in-github",
        "colab_type": "text"
      },
      "source": [
        "<a href=\"https://colab.research.google.com/github/aydawudu/A-B-test-results-in-Tableau/blob/main/Copy_of_support_vector_regression.ipynb\" target=\"_parent\"><img src=\"https://colab.research.google.com/assets/colab-badge.svg\" alt=\"Open In Colab\"/></a>"
      ]
    },
    {
      "cell_type": "markdown",
      "metadata": {
        "id": "m3PAEPRDRLA3"
      },
      "source": [
        "# Support Vector Regression (SVR)"
      ]
    },
    {
      "cell_type": "markdown",
      "metadata": {
        "id": "0VCUAVIjRdzZ"
      },
      "source": [
        "## Importing the libraries"
      ]
    },
    {
      "cell_type": "code",
      "metadata": {
        "id": "56oRF-QfSDzC"
      },
      "source": [
        "import numpy as np\n",
        "import matplotlib.pyplot as plt\n",
        "import pandas as pd"
      ],
      "execution_count": 1,
      "outputs": []
    },
    {
      "cell_type": "code",
      "metadata": {
        "id": "9vV0Ir9Mr11v"
      },
      "source": [
        "dataset=pd.read_csv('Position_Salaries.csv')\n",
        "X=dataset.iloc[:, 1:-1].values\n",
        "y=dataset.iloc[:, -1].values\n",
        "\n"
      ],
      "execution_count": 4,
      "outputs": []
    },
    {
      "cell_type": "markdown",
      "metadata": {
        "id": "Ghe_GLuOy4vQ"
      },
      "source": [
        "SVR on the whole dataset therefore no splitting in this case."
      ]
    },
    {
      "cell_type": "code",
      "metadata": {
        "colab": {
          "base_uri": "https://localhost:8080/"
        },
        "id": "E3iJBePLsf3o",
        "outputId": "9edf55af-4a6f-44e8-d62f-2f8cffd57b85"
      },
      "source": [
        "X #2 dimensional array "
      ],
      "execution_count": 5,
      "outputs": [
        {
          "output_type": "execute_result",
          "data": {
            "text/plain": [
              "array([[ 1],\n",
              "       [ 2],\n",
              "       [ 3],\n",
              "       [ 4],\n",
              "       [ 5],\n",
              "       [ 6],\n",
              "       [ 7],\n",
              "       [ 8],\n",
              "       [ 9],\n",
              "       [10]])"
            ]
          },
          "metadata": {
            "tags": []
          },
          "execution_count": 5
        }
      ]
    },
    {
      "cell_type": "code",
      "metadata": {
        "colab": {
          "base_uri": "https://localhost:8080/"
        },
        "id": "YDeGCMuMxfWg",
        "outputId": "eeb45cd4-49ff-41be-c3ea-eda4f73c8828"
      },
      "source": [
        "y #1 dimensional array"
      ],
      "execution_count": 6,
      "outputs": [
        {
          "output_type": "execute_result",
          "data": {
            "text/plain": [
              "array([  45000,   50000,   60000,   80000,  110000,  150000,  200000,\n",
              "        300000,  500000, 1000000])"
            ]
          },
          "metadata": {
            "tags": []
          },
          "execution_count": 6
        }
      ]
    },
    {
      "cell_type": "code",
      "metadata": {
        "id": "ydPn9o9dyH5p"
      },
      "source": [
        "#to reshape the y array into a two dimensional array\n",
        "y=y.reshape(len(y), 1)"
      ],
      "execution_count": 7,
      "outputs": []
    },
    {
      "cell_type": "code",
      "metadata": {
        "colab": {
          "base_uri": "https://localhost:8080/"
        },
        "id": "89GS6ioVypyM",
        "outputId": "c11d73e4-3f17-496a-eee6-55e4e2d3ac45"
      },
      "source": [
        "y"
      ],
      "execution_count": 8,
      "outputs": [
        {
          "output_type": "execute_result",
          "data": {
            "text/plain": [
              "array([[  45000],\n",
              "       [  50000],\n",
              "       [  60000],\n",
              "       [  80000],\n",
              "       [ 110000],\n",
              "       [ 150000],\n",
              "       [ 200000],\n",
              "       [ 300000],\n",
              "       [ 500000],\n",
              "       [1000000]])"
            ]
          },
          "metadata": {
            "tags": []
          },
          "execution_count": 8
        }
      ]
    },
    {
      "cell_type": "markdown",
      "metadata": {
        "id": "Q0vUr6BEsmXI"
      },
      "source": [
        "## Feature Scaling"
      ]
    },
    {
      "cell_type": "code",
      "metadata": {
        "id": "gHjpQvhLvzHI"
      },
      "source": [
        "from sklearn.preprocessing import StandardScaler #since the data stuructures of y and x are different, you need to transform them individually\n",
        "sc_X=StandardScaler()\n",
        "X=sc_X.fit_transform(X)\n",
        "sc_y=StandardScaler()\n",
        "y=sc_y.fit_transform(y)"
      ],
      "execution_count": 10,
      "outputs": []
    },
    {
      "cell_type": "code",
      "metadata": {
        "colab": {
          "base_uri": "https://localhost:8080/"
        },
        "id": "iv8w0P0LzsVw",
        "outputId": "f9341b3e-5eaa-4652-aee5-614adb8b8b51"
      },
      "source": [
        "X"
      ],
      "execution_count": 11,
      "outputs": [
        {
          "output_type": "execute_result",
          "data": {
            "text/plain": [
              "array([[-1.5666989 ],\n",
              "       [-1.21854359],\n",
              "       [-0.87038828],\n",
              "       [-0.52223297],\n",
              "       [-0.17407766],\n",
              "       [ 0.17407766],\n",
              "       [ 0.52223297],\n",
              "       [ 0.87038828],\n",
              "       [ 1.21854359],\n",
              "       [ 1.5666989 ]])"
            ]
          },
          "metadata": {
            "tags": []
          },
          "execution_count": 11
        }
      ]
    },
    {
      "cell_type": "code",
      "metadata": {
        "colab": {
          "base_uri": "https://localhost:8080/"
        },
        "id": "6-DX32r4zujK",
        "outputId": "889f08aa-7c4e-4413-8783-54ae83ee8d10"
      },
      "source": [
        "y"
      ],
      "execution_count": 12,
      "outputs": [
        {
          "output_type": "execute_result",
          "data": {
            "text/plain": [
              "array([[-0.72004253],\n",
              "       [-0.70243757],\n",
              "       [-0.66722767],\n",
              "       [-0.59680786],\n",
              "       [-0.49117815],\n",
              "       [-0.35033854],\n",
              "       [-0.17428902],\n",
              "       [ 0.17781001],\n",
              "       [ 0.88200808],\n",
              "       [ 2.64250325]])"
            ]
          },
          "metadata": {
            "tags": []
          },
          "execution_count": 12
        }
      ]
    },
    {
      "cell_type": "markdown",
      "metadata": {
        "id": "6L1P51RxsrG4"
      },
      "source": [
        "## Training the SVR Model on the whole dataset"
      ]
    },
    {
      "cell_type": "code",
      "metadata": {
        "colab": {
          "base_uri": "https://localhost:8080/"
        },
        "id": "B_JvxYNVz-MJ",
        "outputId": "eee31ee7-e5b5-4aef-b63f-6ff1b6c5f0d3"
      },
      "source": [
        "from sklearn.svm import SVR\n",
        "regressor=SVR(kernel='rbf')\n",
        "regressor.fit(X,y)"
      ],
      "execution_count": 17,
      "outputs": [
        {
          "output_type": "stream",
          "text": [
            "/usr/local/lib/python3.7/dist-packages/sklearn/utils/validation.py:760: DataConversionWarning: A column-vector y was passed when a 1d array was expected. Please change the shape of y to (n_samples, ), for example using ravel().\n",
            "  y = column_or_1d(y, warn=True)\n"
          ],
          "name": "stderr"
        },
        {
          "output_type": "execute_result",
          "data": {
            "text/plain": [
              "SVR(C=1.0, cache_size=200, coef0=0.0, degree=3, epsilon=0.1, gamma='scale',\n",
              "    kernel='rbf', max_iter=-1, shrinking=True, tol=0.001, verbose=False)"
            ]
          },
          "metadata": {
            "tags": []
          },
          "execution_count": 17
        }
      ]
    },
    {
      "cell_type": "markdown",
      "metadata": {
        "id": "deDnDr8UR5vq"
      },
      "source": [
        "## Predicting a new result"
      ]
    },
    {
      "cell_type": "code",
      "metadata": {
        "colab": {
          "base_uri": "https://localhost:8080/"
        },
        "id": "NozTDsC52xGl",
        "outputId": "ebd71e5a-f031-4af6-cb58-66e4f3f2a5c6"
      },
      "source": [
        "#first, you have to do an inverse transformation\n",
        "#To predict the 6.5 level's salary\n",
        "sc_y.inverse_transform(regressor.predict(sc_X.transform([[6.5]])))"
      ],
      "execution_count": 20,
      "outputs": [
        {
          "output_type": "execute_result",
          "data": {
            "text/plain": [
              "array([170370.0204065])"
            ]
          },
          "metadata": {
            "tags": []
          },
          "execution_count": 20
        }
      ]
    },
    {
      "cell_type": "markdown",
      "metadata": {
        "id": "zzedFlUISSu_"
      },
      "source": [
        "## Visualising the SVR results"
      ]
    },
    {
      "cell_type": "code",
      "metadata": {
        "colab": {
          "base_uri": "https://localhost:8080/",
          "height": 295
        },
        "id": "hRP3UqR043CL",
        "outputId": "b5714069-c892-41a2-e051-052cb3fb501d"
      },
      "source": [
        "plt.scatter(sc_X.inverse_transform(X),sc_y.inverse_transform(y),color='red')\n",
        "plt.plot(sc_X.inverse_transform(X), sc_y.inverse_transform(regressor.predict(X)), color='blue')\n",
        "plt.title ('Predicted vs True Values (SVR)')\n",
        "plt.xlabel('Position Level')\n",
        "plt.ylabel ('Sal')\n",
        "plt.show()"
      ],
      "execution_count": 25,
      "outputs": [
        {
          "output_type": "display_data",
          "data": {
            "image/png": "[encoded data removed]",
            "text/plain": [
              "<Figure size 432x288 with 1 Axes>"
            ]
          },
          "metadata": {
            "tags": [],
            "needs_background": "light"
          }
        }
      ]
    },
    {
      "cell_type": "markdown",
      "metadata": {
        "id": "UahPVNlJSZ-K"
      },
      "source": [
        "## Visualising the SVR results (for higher resolution and smoother curve)"
      ]
    },
    {
      "cell_type": "code",
      "metadata": {
        "colab": {
          "base_uri": "https://localhost:8080/",
          "height": 295
        },
        "id": "q9cgeljk7OrD",
        "outputId": "f508c720-3e67-4f3f-ba92-9c692f5ed132"
      },
      "source": [
        "x_grid=np.arange(min(sc_X.inverse_transform(X)), max(sc_X.inverse_transform(X)), 0.1)\n",
        "x_grid=x_grid.reshape((len(x_grid), 1))\n",
        "plt.scatter(sc_X.inverse_transform(X),sc_y.inverse_transform(y),color='red')\n",
        "plt.plot(x_grid, sc_y.inverse_transform(regressor.predict(sc_X.transform(x_grid))), color='blue')\n",
        "plt.title ('Predicted vs True Values (SVR)')\n",
        "plt.xlabel('Position Level')\n",
        "plt.ylabel ('Sal')\n",
        "plt.show()\n"
      ],
      "execution_count": 32,
      "outputs": [
        {
          "output_type": "display_data",
          "data": {
            "image/png": "[encoded data removed]",
            "text/plain": [
              "<Figure size 432x288 with 1 Axes>"
            ]
          },
          "metadata": {
            "tags": [],
            "needs_background": "light"
          }
        }
      ]
    },
    {
      "cell_type": "code",
      "metadata": {
        "id": "M23kGdOH_Biq"
      },
      "source": [
        ""
      ],
      "execution_count": null,
      "outputs": []
    }
  ]
}